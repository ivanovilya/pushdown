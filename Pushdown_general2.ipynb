{
 "cells": [
  {
   "cell_type": "markdown",
   "metadata": {},
   "source": [
    "Идея - написать два класса:\n",
    "первый считывает из файла конкретный автомат и считает длину периода (в первой версии) до первой единицы\n",
    "второй будет генерировать файлы с заданными параметрами (под каждый вид автомата пишется отдельный генератор)"
   ]
  },
  {
   "cell_type": "markdown",
   "metadata": {},
   "source": [
    "Формат файла:\n",
    "n \\t m \\t k\n",
    "начальное состояние \\t начальная строка\n",
    "\n",
    "опциональные строки с алфавитами: по умолчанию $Q = \\{0,...,n-1 \\}, \\Gamma = \\{1,...,k\\}, 0 = \\lambda$, $B = \\{0, 1\\}$\n",
    "\n",
    "функция переходов: Q \\t Gamma \\t Q, Q \\t \\lambda \\t Q\n",
    "\n",
    "функция выхода: Q \\t Gamma \\t B, Q \\t \\lambda \\t B\n",
    "\n",
    "функция записи в магазин: ...\n"
   ]
  },
  {
   "cell_type": "markdown",
   "metadata": {},
   "source": [
    "## Основной класс"
   ]
  },
  {
   "cell_type": "code",
   "execution_count": 20,
   "metadata": {
    "collapsed": false
   },
   "outputs": [],
   "source": [
    "class Pushdown(object):\n",
    "    def __init__(self, fileName):\n",
    "        sep = '\\n'\n",
    "        with open(fileName) as fin:\n",
    "            text = fin.read()\n",
    "            \n",
    "        lines = text.split(sep)\n",
    "        sep = '\\t'\n",
    "        nmk = lines[0].split(sep)\n",
    "        self.n = int(nmk[0]) \n",
    "        self.m = int(nmk[1]) \n",
    "        self.k = int(nmk[2])\n",
    "        #print self.n, self.m, self.k\n",
    "        \n",
    "        second = lines[1].split(sep)\n",
    "        \n",
    "        self.state = int(second[0])\n",
    "        self.stack = second[1]\n",
    "        #print self.state, len(self.stack), self.stack\n",
    "        #print lines[2: 2 + self.n* (self.m + 1) + 1]\n",
    "        self.phi = self.createMap(lines[2: 2 + self.n* (self.m + 1) + 1])\n",
    "        #print self.phi\n",
    "        #print lines[3 + self.n* (self.m + 1): 4 + 2 * self.n* (self.m + 1)]\n",
    "        self.psi = self.createMap(lines[3 + self.n* (self.m + 1): 4 + 2 * self.n* (self.m + 1)])\n",
    "        #print self.psi\n",
    "        #print lines[4 + 2*self.n* (self.m + 1): 5 + 3 * self.n* (self.m + 1)]\n",
    "        self.eta = self.createMap(lines[4 + 2*self.n* (self.m + 1): 5 + 3 * self.n* (self.m + 1)])\n",
    "        #print self.eta\n",
    "        \n",
    "    def createMap(self, lines):\n",
    "        #print lines[0]\n",
    "        result = {}\n",
    "        for i in range(self.n):\n",
    "            result[i] = {}\n",
    "        for line in lines[1:]:\n",
    "            split_line = line.split('\\t')\n",
    "            #print split_line\n",
    "            result[int(split_line[0])][int(split_line[1])] = split_line[2] \n",
    "        return result\n",
    "    \n",
    "    def calculatePeriod(self, verbose=0):\n",
    "        result = 1\n",
    "        while(self.step() != 1):\n",
    "            result = 1\n",
    "        if verbose > 0:\n",
    "            print(result, self.state, self.stack)\n",
    "        while(self.step() != 1):\n",
    "            result += 1\n",
    "            if verbose > 0:\n",
    "                 print(result, self.state, self.stack)\n",
    "            \n",
    "        return result\n",
    "    \n",
    "    def step(self):\n",
    "        #print self.state, self.z(), self.psi\n",
    "        result = self.psi[self.state][self.z()]\n",
    "        next_state = int(self.phi[self.state][self.z()])\n",
    "        next_stack = self.nextStack()\n",
    "        self.state = next_state\n",
    "        self.stack = next_stack\n",
    "        return int(result)\n",
    "    \n",
    "    def z(self):\n",
    "        if len(self.stack) == 0:\n",
    "            return 0\n",
    "        else:\n",
    "            return int(self.stack[-1])\n",
    "        \n",
    "    def nextStack(self):\n",
    "        if self.eta[self.state][self.z()] == \"0\":\n",
    "            return self.stack[:-1]\n",
    "        else:\n",
    "            return self.stack[:-1] + self.eta[self.state][self.z()]"
   ]
  },
  {
   "cell_type": "code",
   "execution_count": 27,
   "metadata": {
    "collapsed": false
   },
   "outputs": [
    {
     "name": "stdout",
     "output_type": "stream",
     "text": [
      "31\n"
     ]
    }
   ],
   "source": [
    "path = \"C:/Users/iivanov/Desktop/soft/automata/\"\n",
    "pushdown = Pushdown(path + \"max_pda_n_3_m_2_k_3.txt\")\n",
    "print(pushdown.calculatePeriod(0))\n"
   ]
  },
  {
   "cell_type": "code",
   "execution_count": 25,
   "metadata": {
    "collapsed": false
   },
   "outputs": [
    {
     "data": {
      "text/plain": [
       "31.0"
      ]
     },
     "execution_count": 25,
     "metadata": {},
     "output_type": "execute_result"
    }
   ],
   "source": [
    "print (theoryEstimateSimpleCase(3, 3))\n",
    "print (theoryEstimate(3, 2, 3))"
   ]
  },
  {
   "cell_type": "code",
   "execution_count": 47,
   "metadata": {
    "collapsed": false
   },
   "outputs": [],
   "source": [
    "class MaxPushdownGenerator(object):\n",
    "    def __init__(self, n, m, k, fileName):\n",
    "        self.n = n\n",
    "        self.m = m\n",
    "        self.k = k\n",
    "        with open(fileName, 'w') as fout:\n",
    "            fout.write(str(n))\n",
    "            fout.write('\\t')\n",
    "            fout.write(str(m))\n",
    "            fout.write('\\t')\n",
    "            fout.write(str(k))\n",
    "            fout.write('\\n')\n",
    "            fout.write('0')\n",
    "            fout.write('\\t\\n')\n",
    "            \n",
    "            fout.write('phi\\n')\n",
    "            for q in range(n):\n",
    "                for z in range(m+1):\n",
    "                    fout.write(str(q) + '\\t' + str(z) + '\\t' + str(self.phi(q,z)) + '\\n')\n",
    " \n",
    "            fout.write('psi\\n')\n",
    "            for q in range(n):\n",
    "                for z in range(m+1):\n",
    "                    fout.write(str(q) + '\\t' + str(z) + '\\t' + str(self.psi(q,z)) + '\\n')\n",
    "            \n",
    "            fout.write('eta\\n')\n",
    "            for q in range(n):\n",
    "                for z in range(m+1):\n",
    "                    fout.write(str(q) + '\\t' + str(z) + '\\t' + str(self.eta(q,z)) + '\\n')\n",
    "    \n",
    "    def phi(self, q, z):\n",
    "        if z == self.m and q != 0:\n",
    "            return q-1\n",
    "        if z == self.m - 1 and q != self.n - 1:\n",
    "            return q + 1\n",
    "        return q\n",
    "    \n",
    "    def psi(self, q, z):\n",
    "        if q == 0 and z == 0:\n",
    "            return 1\n",
    "        return 0\n",
    "    \n",
    "    def eta(self, q, z):\n",
    "        if z == 0:\n",
    "            return repeat(self.k, '1')\n",
    "        if z == self.m:\n",
    "            return '0';\n",
    "        if z == self.m - 1 and q == self.n - 1:\n",
    "            return '0'\n",
    "        if z == self.m - 1 and q != self.n - 1:\n",
    "            return str(self.m) + repeat(self.k - 1, '1')\n",
    "        return repeat(k, str(z + 1))\n",
    "        \n",
    "def repeat(ntimes, symbol):\n",
    "    result  = ''\n",
    "    for i in range(ntimes):\n",
    "        result += symbol\n",
    "    return result"
   ]
  },
  {
   "cell_type": "code",
   "execution_count": 48,
   "metadata": {
    "collapsed": false
   },
   "outputs": [],
   "source": []
  },
  {
   "cell_type": "code",
   "execution_count": 107,
   "metadata": {
    "collapsed": true
   },
   "outputs": [],
   "source": [
    "def theoryEstimateSimpleCase(n, k):\n",
    "    if k == 2:\n",
    "        return 4*n - 1\n",
    "    else:\n",
    "        return 1 + k*((k-1)**n + (k-1)**(n-1) - 2)/ (1.0 * k - 2)\n",
    "    \n",
    "def theoryEstimate(n, m, k):\n",
    "    if k == 2 and m == 2:\n",
    "        return 4*n - 1\n",
    "    else:\n",
    "        m = m - 1\n",
    "        return (k**m - 1)/(k-1) + k**m * ( (1+k**(m-1))*((k**m - k**(m-1))**(n-1) - 1)/(k**m - k**(m-1) - 1) + (k**m - k**(m-1))**(n-1) )\n",
    "    "
   ]
  },
  {
   "cell_type": "code",
   "execution_count": 110,
   "metadata": {
    "collapsed": false
   },
   "outputs": [
    {
     "name": "stdout",
     "output_type": "stream",
     "text": [
      "11\n",
      "11\n"
     ]
    }
   ],
   "source": [
    "\n",
    "path = \"C:/Users/iivanov/Desktop/soft/automata/\"\n",
    "n = 3\n",
    "m = 2\n",
    "k = 2\n",
    "\n",
    "fileName = \"new_\" + str(n) + \"_\" + str(m) + \"_\" + str(k) + \".txt\"\n",
    "newFileGenerator = MaxPushdownGenerator(n, m ,k, path + fileName)\n",
    "pushdown = Pushdown(path + fileName)\n",
    "print(pushdown.calculatePeriod(0))\n",
    "#print (theoryEstimateSimpleCase(n, k))\n",
    "print (theoryEstimate(n, m, k))"
   ]
  },
  {
   "cell_type": "code",
   "execution_count": 111,
   "metadata": {
    "collapsed": false
   },
   "outputs": [],
   "source": [
    "path = \"C:/Users/iivanov/Desktop/soft/automata/\"\n",
    "\n",
    "for n in range(2, 5):\n",
    "    for k in range(2, 5):\n",
    "        for m in range(2, 5):\n",
    "            fileName = \"new_\" + str(n) + \"_\" + str(m) + \"_\" + str(k) + \".txt\"\n",
    "            newFileGenerator = MaxPushdownGenerator(n, m ,k, path + fileName)\n",
    "            pushdown = Pushdown(path + fileName)\n",
    "            if pushdown.calculatePeriod(0) != theoryEstimate(n, m, k):\n",
    "                print(n, m , k)\n"
   ]
  },
  {
   "cell_type": "code",
   "execution_count": null,
   "metadata": {
    "collapsed": true
   },
   "outputs": [],
   "source": []
  }
 ],
 "metadata": {
  "kernelspec": {
   "display_name": "Python 3",
   "language": "python",
   "name": "python3"
  },
  "language_info": {
   "codemirror_mode": {
    "name": "ipython",
    "version": 3
   },
   "file_extension": ".py",
   "mimetype": "text/x-python",
   "name": "python",
   "nbconvert_exporter": "python",
   "pygments_lexer": "ipython3",
   "version": "3.4.3"
  }
 },
 "nbformat": 4,
 "nbformat_minor": 0
}
