{
 "cells": [
  {
   "cell_type": "code",
   "execution_count": 7,
   "metadata": {
    "collapsed": false
   },
   "outputs": [],
   "source": [
    "from pushdown import Pushdown\n",
    "from generator import MaxPushdownGenerator\n"
   ]
  },
  {
   "cell_type": "code",
   "execution_count": 8,
   "metadata": {
    "collapsed": false
   },
   "outputs": [
    {
     "name": "stdout",
     "output_type": "stream",
     "text": [
      "7\n"
     ]
    }
   ],
   "source": [
    "path = \"automaton/\"\n",
    "pushdown = Pushdown(path + \"new_2_2_2.txt\")\n",
    "print(pushdown.calculatePeriod(0))\n"
   ]
  },
  {
   "cell_type": "code",
   "execution_count": 9,
   "metadata": {
    "collapsed": false
   },
   "outputs": [
    {
     "name": "stdout",
     "output_type": "stream",
     "text": [
      "11\n",
      "11\n"
     ]
    }
   ],
   "source": [
    "n = 3\n",
    "m = 2\n",
    "k = 2\n",
    "\n",
    "fileName = \"new_\" + str(n) + \"_\" + str(m) + \"_\" + str(k) + \".txt\"\n",
    "newFileGenerator = MaxPushdownGenerator(n, m ,k, path + fileName)\n",
    "pushdown = Pushdown(path + fileName)\n",
    "print(pushdown.calculatePeriod(0))\n",
    "print (newFileGenerator.theoryEstimate())"
   ]
  },
  {
   "cell_type": "code",
   "execution_count": 5,
   "metadata": {
    "collapsed": false
   },
   "outputs": [
    {
     "name": "stdout",
     "output_type": "stream",
     "text": [
      "11\n"
     ]
    }
   ],
   "source": [
    "for n in range(2, 5):\n",
    "    for k in range(2, 5):\n",
    "        for m in range(2, 5):\n",
    "            fileName = \"new_\" + str(n) + \"_\" + str(m) + \"_\" + str(k) + \".txt\"\n",
    "            newFileGenerator = MaxPushdownGenerator(n, m ,k, path + fileName)\n",
    "            pushdown = Pushdown(path + fileName)\n",
    "            if pushdown.calculatePeriod(0) != theoryEstimate(n, m, k):\n",
    "                print(n, m , k)"
   ]
  },
  {
   "cell_type": "code",
   "execution_count": null,
   "metadata": {
    "collapsed": true
   },
   "outputs": [],
   "source": []
  }
 ],
 "metadata": {
  "kernelspec": {
   "display_name": "Python 3",
   "language": "python",
   "name": "python3"
  },
  "language_info": {
   "codemirror_mode": {
    "name": "ipython",
    "version": 3
   },
   "file_extension": ".py",
   "mimetype": "text/x-python",
   "name": "python",
   "nbconvert_exporter": "python",
   "pygments_lexer": "ipython3",
   "version": "3.5.1"
  }
 },
 "nbformat": 4,
 "nbformat_minor": 0
}
