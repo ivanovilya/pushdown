{
 "cells": [
  {
   "cell_type": "code",
   "execution_count": 4,
   "metadata": {
    "collapsed": false
   },
   "outputs": [],
   "source": [
    "from pushdown import Pushdown\n",
    "from generator import MaxPushdownGeneratorSpecialCase, MaxPushdownGenerator, MaxRocaGenerator, MaxRocaNoCyclesGenerator\n",
    "path = \"automaton/\"\n"
   ]
  },
  {
   "cell_type": "markdown",
   "metadata": {},
   "source": [
    "### Pushdown m > 1 (except case m = 2, k = 2)"
   ]
  },
  {
   "cell_type": "code",
   "execution_count": 2,
   "metadata": {
    "collapsed": false
   },
   "outputs": [
    {
     "name": "stdout",
     "output_type": "stream",
     "text": [
      "2184531\n",
      "2184531\n"
     ]
    }
   ],
   "source": [
    "n = 10\n",
    "m = 2\n",
    "k = 5\n",
    "\n",
    "fileName = \"new_\" + str(n) + \"_\" + str(m) + \"_\" + str(k) + \".txt\"\n",
    "newFileGenerator = MaxPushdownGenerator(n, m ,k, path + fileName)\n",
    "print (newFileGenerator.theoryEstimate())\n",
    "pushdown = Pushdown(path + fileName)\n",
    "print(pushdown.calculatePeriod(0))\n"
   ]
  },
  {
   "cell_type": "markdown",
   "metadata": {},
   "source": [
    "#### Comparison theoretical solution and simulation"
   ]
  },
  {
   "cell_type": "code",
   "execution_count": 3,
   "metadata": {
    "collapsed": false
   },
   "outputs": [
    {
     "name": "stdout",
     "output_type": "stream",
     "text": [
      "Test passed: theoretical solution is correct\n"
     ]
    }
   ],
   "source": [
    "result = True\n",
    "for n in range(2, 5):\n",
    "    for k in range(2, 5):\n",
    "        for m in range(2, 5):\n",
    "            fileName = \"new_\" + str(n) + \"_\" + str(m) + \"_\" + str(k) + \".txt\"\n",
    "            newFileGenerator = MaxPushdownGenerator(n, m ,k, path + fileName)\n",
    "            pushdown = Pushdown(path + fileName)\n",
    "            if pushdown.calculatePeriod(0) != newFileGenerator.theoryEstimate():\n",
    "                print(n, m , k)\n",
    "                result = False\n",
    "if result:\n",
    "    print(\"Test passed: theoretical solution is correct\")"
   ]
  },
  {
   "cell_type": "markdown",
   "metadata": {},
   "source": [
    "### Pushdown special case m = 2 and k = 2 "
   ]
  },
  {
   "cell_type": "code",
   "execution_count": 4,
   "metadata": {
    "collapsed": false
   },
   "outputs": [
    {
     "name": "stdout",
     "output_type": "stream",
     "text": [
      "15341\n",
      "15341\n"
     ]
    }
   ],
   "source": [
    "n = 5\n",
    "fileName = \"new_\" + str(n) + \"_\" + str(2) + \"_\" + str(2) + \"_ special.txt\"\n",
    "newFileGenerator = MaxPushdownGeneratorSpecialCase(n, path + fileName)\n",
    "print (newFileGenerator.theoryEstimate())\n",
    "pushdown = Pushdown(path + fileName)\n",
    "print(pushdown.calculatePeriod(0))"
   ]
  },
  {
   "cell_type": "markdown",
   "metadata": {},
   "source": [
    "#### Comparison theoretical solution and simulation"
   ]
  },
  {
   "cell_type": "code",
   "execution_count": 6,
   "metadata": {
    "collapsed": false
   },
   "outputs": [
    {
     "name": "stdout",
     "output_type": "stream",
     "text": [
      "Test passed: theoretical solution is correct\n"
     ]
    }
   ],
   "source": [
    "result = True\n",
    "for  n in range(1, 8):\n",
    "    fileName = \"new_\" + str(n) + \"_\" + str(2) + \"_\" + str(2) + \"_ special.txt\"\n",
    "    newFileGenerator = MaxPushdownGeneratorSpecialCase(n, path + fileName)\n",
    "    #print (newFileGenerator.theoryEstimate())\n",
    "    #print(pushdown.calculatePeriod(0))\n",
    "    pushdown = Pushdown(path + fileName)\n",
    "    if pushdown.calculatePeriod(0) != newFileGenerator.theoryEstimate():\n",
    "        print(n)\n",
    "        result = False\n",
    "if result:\n",
    "    print(\"Test passed: theoretical solution is correct\")"
   ]
  },
  {
   "cell_type": "markdown",
   "metadata": {},
   "source": [
    "### ROCA"
   ]
  },
  {
   "cell_type": "code",
   "execution_count": 7,
   "metadata": {
    "collapsed": false
   },
   "outputs": [
    {
     "name": "stdout",
     "output_type": "stream",
     "text": [
      "45\n",
      "45\n"
     ]
    }
   ],
   "source": [
    "n = 7\n",
    "s = 4\n",
    "k = 3\n",
    "\n",
    "fileName = \"roca_n\" + str(n) + \"_s\" + str(s) + \"_k\" + str(k) + \".txt\"\n",
    "newFileGenerator = MaxRocaGenerator(n, s ,k, path + fileName)\n",
    "print (newFileGenerator.theoryEstimate())\n",
    "pushdown = Pushdown(path + fileName)\n",
    "print(pushdown.calculatePeriod(0, k*n*n))"
   ]
  },
  {
   "cell_type": "markdown",
   "metadata": {},
   "source": [
    "#### Comparison theoretical solution and simulation"
   ]
  },
  {
   "cell_type": "code",
   "execution_count": 8,
   "metadata": {
    "collapsed": false
   },
   "outputs": [
    {
     "name": "stdout",
     "output_type": "stream",
     "text": [
      "Test passed: theoretical solution is correct\n"
     ]
    }
   ],
   "source": [
    "result = True\n",
    "for n in range(4, 20):\n",
    "    for s in range(1, n/2):\n",
    "        for k in range(2, 10):\n",
    "            fileName = \"roca_n\" + str(n) + \"_s\" + str(s) + \"_k\" + str(k) + \".txt\"\n",
    "            newFileGenerator = MaxRocaGenerator(n, s ,k, path + fileName)\n",
    "            pushdown = Pushdown(path + fileName)\n",
    "            #print(n, s, k, pushdown.calculatePeriod(0),  newFileGenerator.theoryEstimate())\n",
    "            if pushdown.calculatePeriod(0) != newFileGenerator.theoryEstimate():\n",
    "                print(n, s, k)\n",
    "                result = False\n",
    "if result:\n",
    "    print(\"Test passed: theoretical solution is correct\")\n",
    "            "
   ]
  },
  {
   "cell_type": "markdown",
   "metadata": {},
   "source": [
    "#### Check lowerbound for ROCA output period"
   ]
  },
  {
   "cell_type": "code",
   "execution_count": 10,
   "metadata": {
    "collapsed": false
   },
   "outputs": [
    {
     "name": "stdout",
     "output_type": "stream",
     "text": [
      "Test passed: lower bound is correct\n"
     ]
    }
   ],
   "source": [
    "def lowerBound(n, k):\n",
    "    return 0.5*k*(k-1)/(2*k-1)* n * n - 1.0 * n /(2*k - 1) - 1.0\n",
    "\n",
    "result  = True\n",
    "for n in range(4, 100):\n",
    "    for k in range(2, 20):\n",
    "        s = (k-1)*n/(2*k - 1)\n",
    "        fileName = \"roca_n\" + str(n) + \"_s\" + str(s) + \"_k\" + str(k) + \".txt\"\n",
    "        newFileGenerator = MaxRocaGenerator(n, s ,k, path + fileName)\n",
    "        pushdown = Pushdown(path + fileName)\n",
    "        #print(n, s, k, pushdown.calculatePeriod(0),  newFileGenerator.theoryEstimate(), lowerBound(n, k))\n",
    "        if pushdown.calculatePeriod(0) != newFileGenerator.theoryEstimate():\n",
    "            print(n, s, k)\n",
    "        if lowerBound(n, k) >= newFileGenerator.theoryEstimate():\n",
    "            result = false\n",
    "            print(\"LowerBound error lowerBound = \", lowerBound(n, k), \" > real value =\", newFileGenerator.theoryEstimate())\n",
    "if result:\n",
    "    print(\"Test passed: lower bound is correct\")"
   ]
  },
  {
   "cell_type": "code",
   "execution_count": 1,
   "metadata": {
    "collapsed": true
   },
   "outputs": [],
   "source": [
    "from pushdown import Pushdown\n",
    "from generator import  MaxRocaNoCyclesGenerator\n",
    "path = \"automaton/\""
   ]
  },
  {
   "cell_type": "code",
   "execution_count": 41,
   "metadata": {
    "collapsed": false
   },
   "outputs": [
    {
     "name": "stdout",
     "output_type": "stream",
     "text": [
      "4850\n",
      "4850\n"
     ]
    }
   ],
   "source": [
    "n = 98\n",
    "k = 97\n",
    "\n",
    "fileName = \"roca_no_cycles_n\" + str(n) + \"_k\" + str(k) + \".txt\"\n",
    "newFileGenerator = MaxRocaNoCyclesGenerator(n, k, path + fileName)\n",
    "print (newFileGenerator.theoryEstimate())\n",
    "pushdown = Pushdown(path + fileName)\n",
    "print(pushdown.calculatePeriod(0, k*n*n))"
   ]
  },
  {
   "cell_type": "code",
   "execution_count": 42,
   "metadata": {
    "collapsed": false,
    "scrolled": false
   },
   "outputs": [
    {
     "name": "stdout",
     "output_type": "stream",
     "text": [
      "Test passed: theory value equals simulated value\n",
      "Test passed: lower bound is correct\n",
      "Test passed: upper bound is correct\n"
     ]
    }
   ],
   "source": [
    "import math\n",
    "def lowerBound(n, k):\n",
    "    #s = n -  int(math.ceil(float(n-1)/k) - 1)\n",
    "    #return 0.5*s*(s-1) + (s-1.0)*(n-s+1.0) - 0.5*(s-1.0)*(s-1.0)/(k-1.0) - 1.5*(s-1.0)   \n",
    "    #print((k-1.0)*n/k + 1.0/k,s, (k-1.0)*n/k + 1.0/k + 1)\n",
    "    #return 1.0*s*n - 0.5*s*s*k/(k-1.0) + 1.0*s/(k-1.0) - n\n",
    "    return 0.5*(k-1.0)*n*n/k - 2*n - 3\n",
    "#    return n**2/2.0 - 2.0/(k - 1.0) - (n**2 - 1.0)/(2.0*k) - 2.0*n - 1.0/2.0\n",
    "\n",
    "def upperBound(n, k):\n",
    "    return 0.5*(k-1.0)*n*n/k + 5*n\n",
    "    \n",
    "result  = True\n",
    "lowerResult  = True\n",
    "upperResult  = True\n",
    "for k in range(2, 100):\n",
    "    for n in range(k+1, 101):\n",
    "        fileName = \"roca_no_cycles_n\" + str(n) + \"_k\" + str(k) + \".txt\"\n",
    "        newFileGenerator = MaxRocaNoCyclesGenerator(n, k, path + fileName)\n",
    "        pushdown = Pushdown(path + fileName)\n",
    "        #print(n, k, pushdown.calculatePeriod(0, k*n*n),  newFileGenerator.theoryEstimate())\n",
    "        #print(lowerBound(n, k), upperBound(n, k))\n",
    "        if pushdown.calculatePeriod(0, k*n*n) != newFileGenerator.theoryEstimate():\n",
    "            result = False\n",
    "            print(n, k)\n",
    "        if lowerBound(n, k) >= newFileGenerator.theoryEstimate():\n",
    "            lowerResult = False\n",
    "            print(\"LowerBound error lowerBound = \", lowerBound(n, k), \" > real value =\", newFileGenerator.theoryEstimate())\n",
    "        if upperBound(n, k) <= newFileGenerator.theoryEstimate():\n",
    "            upperResult = False\n",
    "            print(\"UpperBound error upperBound = \", upperBound(n, k), \" < real value =\", newFileGenerator.theoryEstimate())\n",
    "if result:\n",
    "    print(\"Test passed: theory value equals simulated value\")\n",
    "if lowerResult:\n",
    "    print(\"Test passed: lower bound is correct\")\n",
    "if upperResult:\n",
    "    print(\"Test passed: upper bound is correct\")"
   ]
  },
  {
   "cell_type": "code",
   "execution_count": null,
   "metadata": {
    "collapsed": true
   },
   "outputs": [],
   "source": []
  }
 ],
 "metadata": {
  "kernelspec": {
   "display_name": "Python 2",
   "language": "python",
   "name": "python2"
  },
  "language_info": {
   "codemirror_mode": {
    "name": "ipython",
    "version": 2
   },
   "file_extension": ".py",
   "mimetype": "text/x-python",
   "name": "python",
   "nbconvert_exporter": "python",
   "pygments_lexer": "ipython2",
   "version": "2.7.11"
  }
 },
 "nbformat": 4,
 "nbformat_minor": 0
}
