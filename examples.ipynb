{
 "cells": [
  {
   "cell_type": "code",
   "execution_count": 1,
   "metadata": {
    "collapsed": false
   },
   "outputs": [],
   "source": [
    "from pushdown import Pushdown\n",
    "from generator import MaxPushdownGeneratorSpecialCase, MaxPushdownGenerator\n",
    "path = \"automaton/\"\n"
   ]
  },
  {
   "cell_type": "code",
   "execution_count": 2,
   "metadata": {
    "collapsed": false
   },
   "outputs": [
    {
     "name": "stdout",
     "output_type": "stream",
     "text": [
      "2184531\n",
      "2184531\n"
     ]
    }
   ],
   "source": [
    "n = 10\n",
    "m = 2\n",
    "k = 5\n",
    "\n",
    "fileName = \"new_\" + str(n) + \"_\" + str(m) + \"_\" + str(k) + \".txt\"\n",
    "newFileGenerator = MaxPushdownGenerator(n, m ,k, path + fileName)\n",
    "print (newFileGenerator.theoryEstimate())\n",
    "pushdown = Pushdown(path + fileName)\n",
    "print(pushdown.calculatePeriod(0))\n"
   ]
  },
  {
   "cell_type": "code",
   "execution_count": 5,
   "metadata": {
    "collapsed": false
   },
   "outputs": [
    {
     "name": "stdout",
     "output_type": "stream",
     "text": [
      "15341\n",
      "15341\n"
     ]
    }
   ],
   "source": [
    "n = 5\n",
    "fileName = \"new_\" + str(n) + \"_\" + str(2) + \"_\" + str(2) + \"_ special.txt\"\n",
    "newFileGenerator = MaxPushdownGeneratorSpecialCase(n, path + fileName)\n",
    "print (newFileGenerator.theoryEstimate())\n",
    "pushdown = Pushdown(path + fileName)\n",
    "print(pushdown.calculatePeriod(0))"
   ]
  },
  {
   "cell_type": "code",
   "execution_count": null,
   "metadata": {
    "collapsed": true
   },
   "outputs": [],
   "source": []
  },
  {
   "cell_type": "code",
   "execution_count": null,
   "metadata": {
    "collapsed": false
   },
   "outputs": [],
   "source": [
    "for n in range(2, 5):\n",
    "    for k in range(2, 5):\n",
    "        for m in range(2, 5):\n",
    "            fileName = \"new_\" + str(n) + \"_\" + str(m) + \"_\" + str(k) + \".txt\"\n",
    "            newFileGenerator = MaxPushdownGenerator(n, m ,k, path + fileName)\n",
    "            pushdown = Pushdown(path + fileName)\n",
    "            if pushdown.calculatePeriod(0) != newFileGenerator.theoryEstimate():\n",
    "                print(n, m , k)"
   ]
  },
  {
   "cell_type": "code",
   "execution_count": 2,
   "metadata": {
    "collapsed": false
   },
   "outputs": [],
   "source": []
  },
  {
   "cell_type": "code",
   "execution_count": 7,
   "metadata": {
    "collapsed": false
   },
   "outputs": [
    {
     "name": "stdout",
     "output_type": "stream",
     "text": [
      "41\n",
      "221\n",
      "941\n",
      "3821\n",
      "15341\n",
      "61421\n",
      "245741\n",
      "983021\n",
      "3932141\n"
     ]
    }
   ],
   "source": [
    "for  n in range(1, 10):\n",
    "    fileName = \"new_\" + str(n) + \"_\" + str(2) + \"_\" + str(2) + \"_ special.txt\"\n",
    "    newFileGenerator = MaxPushdownGeneratorSpecialCase(n, path + fileName)\n",
    "    #print (newFileGenerator.theoryEstimate())\n",
    "    #print(pushdown.calculatePeriod(0))\n",
    "    pushdown = Pushdown(path + fileName)\n",
    "    if pushdown.calculatePeriod(0) != newFileGenerator.theoryEstimate():\n",
    "        print(n)"
   ]
  },
  {
   "cell_type": "code",
   "execution_count": null,
   "metadata": {
    "collapsed": true
   },
   "outputs": [],
   "source": []
  }
 ],
 "metadata": {
  "kernelspec": {
   "display_name": "Python 2",
   "language": "python",
   "name": "python2"
  },
  "language_info": {
   "codemirror_mode": {
    "name": "ipython",
    "version": 2
   },
   "file_extension": ".py",
   "mimetype": "text/x-python",
   "name": "python",
   "nbconvert_exporter": "python",
   "pygments_lexer": "ipython2",
   "version": "2.7.11"
  }
 },
 "nbformat": 4,
 "nbformat_minor": 0
}
