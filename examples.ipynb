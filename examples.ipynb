{
 "cells": [
  {
   "cell_type": "code",
   "execution_count": 1,
   "metadata": {
    "collapsed": false
   },
   "outputs": [],
   "source": [
    "from pushdown import Pushdown\n",
    "from generator import MaxPushdownGeneratorSpecialCase, MaxPushdownGenerator, MaxRocaGenerator\n",
    "path = \"automaton/\"\n"
   ]
  },
  {
   "cell_type": "markdown",
   "metadata": {},
   "source": [
    "### Pushdown m > 1 (except case m = 2, k = 2)"
   ]
  },
  {
   "cell_type": "code",
   "execution_count": 2,
   "metadata": {
    "collapsed": false
   },
   "outputs": [
    {
     "name": "stdout",
     "output_type": "stream",
     "text": [
      "2184531\n",
      "2184531\n"
     ]
    }
   ],
   "source": [
    "n = 10\n",
    "m = 2\n",
    "k = 5\n",
    "\n",
    "fileName = \"new_\" + str(n) + \"_\" + str(m) + \"_\" + str(k) + \".txt\"\n",
    "newFileGenerator = MaxPushdownGenerator(n, m ,k, path + fileName)\n",
    "print (newFileGenerator.theoryEstimate())\n",
    "pushdown = Pushdown(path + fileName)\n",
    "print(pushdown.calculatePeriod(0))\n"
   ]
  },
  {
   "cell_type": "markdown",
   "metadata": {},
   "source": [
    "#### Comparison theoretical solution and simulation"
   ]
  },
  {
   "cell_type": "code",
   "execution_count": 3,
   "metadata": {
    "collapsed": false
   },
   "outputs": [
    {
     "name": "stdout",
     "output_type": "stream",
     "text": [
      "Test passed: theoretical solution is correct\n"
     ]
    }
   ],
   "source": [
    "result = True\n",
    "for n in range(2, 5):\n",
    "    for k in range(2, 5):\n",
    "        for m in range(2, 5):\n",
    "            fileName = \"new_\" + str(n) + \"_\" + str(m) + \"_\" + str(k) + \".txt\"\n",
    "            newFileGenerator = MaxPushdownGenerator(n, m ,k, path + fileName)\n",
    "            pushdown = Pushdown(path + fileName)\n",
    "            if pushdown.calculatePeriod(0) != newFileGenerator.theoryEstimate():\n",
    "                print(n, m , k)\n",
    "                result = False\n",
    "if result:\n",
    "    print(\"Test passed: theoretical solution is correct\")"
   ]
  },
  {
   "cell_type": "markdown",
   "metadata": {},
   "source": [
    "### Pushdown special case m = 2 and k = 2 "
   ]
  },
  {
   "cell_type": "code",
   "execution_count": 4,
   "metadata": {
    "collapsed": false
   },
   "outputs": [
    {
     "name": "stdout",
     "output_type": "stream",
     "text": [
      "15341\n",
      "15341\n"
     ]
    }
   ],
   "source": [
    "n = 5\n",
    "fileName = \"new_\" + str(n) + \"_\" + str(2) + \"_\" + str(2) + \"_ special.txt\"\n",
    "newFileGenerator = MaxPushdownGeneratorSpecialCase(n, path + fileName)\n",
    "print (newFileGenerator.theoryEstimate())\n",
    "pushdown = Pushdown(path + fileName)\n",
    "print(pushdown.calculatePeriod(0))"
   ]
  },
  {
   "cell_type": "markdown",
   "metadata": {},
   "source": [
    "#### Comparison theoretical solution and simulation"
   ]
  },
  {
   "cell_type": "code",
   "execution_count": 6,
   "metadata": {
    "collapsed": false
   },
   "outputs": [
    {
     "name": "stdout",
     "output_type": "stream",
     "text": [
      "Test passed: theoretical solution is correct\n"
     ]
    }
   ],
   "source": [
    "result = True\n",
    "for  n in range(1, 8):\n",
    "    fileName = \"new_\" + str(n) + \"_\" + str(2) + \"_\" + str(2) + \"_ special.txt\"\n",
    "    newFileGenerator = MaxPushdownGeneratorSpecialCase(n, path + fileName)\n",
    "    #print (newFileGenerator.theoryEstimate())\n",
    "    #print(pushdown.calculatePeriod(0))\n",
    "    pushdown = Pushdown(path + fileName)\n",
    "    if pushdown.calculatePeriod(0) != newFileGenerator.theoryEstimate():\n",
    "        print(n)\n",
    "        result = False\n",
    "if result:\n",
    "    print(\"Test passed: theoretical solution is correct\")"
   ]
  },
  {
   "cell_type": "markdown",
   "metadata": {},
   "source": [
    "### ROCA"
   ]
  },
  {
   "cell_type": "code",
   "execution_count": 7,
   "metadata": {
    "collapsed": false
   },
   "outputs": [
    {
     "name": "stdout",
     "output_type": "stream",
     "text": [
      "45\n",
      "45\n"
     ]
    }
   ],
   "source": [
    "n = 7\n",
    "s = 4\n",
    "k = 3\n",
    "\n",
    "fileName = \"roca_n\" + str(n) + \"_s\" + str(s) + \"_k\" + str(k) + \".txt\"\n",
    "newFileGenerator = MaxRocaGenerator(n, s ,k, path + fileName)\n",
    "print (newFileGenerator.theoryEstimate())\n",
    "pushdown = Pushdown(path + fileName)\n",
    "print(pushdown.calculatePeriod(0, k*n*n))"
   ]
  },
  {
   "cell_type": "markdown",
   "metadata": {},
   "source": [
    "#### Comparison theoretical solution and simulation"
   ]
  },
  {
   "cell_type": "code",
   "execution_count": 8,
   "metadata": {
    "collapsed": false
   },
   "outputs": [
    {
     "name": "stdout",
     "output_type": "stream",
     "text": [
      "Test passed: theoretical solution is correct\n"
     ]
    }
   ],
   "source": [
    "result = True\n",
    "for n in range(4, 20):\n",
    "    for s in range(1, n/2):\n",
    "        for k in range(2, 10):\n",
    "            fileName = \"roca_n\" + str(n) + \"_s\" + str(s) + \"_k\" + str(k) + \".txt\"\n",
    "            newFileGenerator = MaxRocaGenerator(n, s ,k, path + fileName)\n",
    "            pushdown = Pushdown(path + fileName)\n",
    "            #print(n, s, k, pushdown.calculatePeriod(0),  newFileGenerator.theoryEstimate())\n",
    "            if pushdown.calculatePeriod(0) != newFileGenerator.theoryEstimate():\n",
    "                print(n, s, k)\n",
    "                result = False\n",
    "if result:\n",
    "    print(\"Test passed: theoretical solution is correct\")\n",
    "            "
   ]
  },
  {
   "cell_type": "markdown",
   "metadata": {},
   "source": [
    "#### Check lowerbound for ROCA output period"
   ]
  },
  {
   "cell_type": "code",
   "execution_count": 10,
   "metadata": {
    "collapsed": false
   },
   "outputs": [
    {
     "name": "stdout",
     "output_type": "stream",
     "text": [
      "Test passed: lower bound is correct\n"
     ]
    }
   ],
   "source": [
    "def lowerBound(n, k):\n",
    "    return 0.5*k*(k-1)/(2*k-1)* n * n - 1.0 * n /(2*k - 1) - 1.0\n",
    "\n",
    "result  = True\n",
    "for n in range(4, 100):\n",
    "    for k in range(2, 20):\n",
    "        s = (k-1)*n/(2*k - 1)\n",
    "        fileName = \"roca_n\" + str(n) + \"_s\" + str(s) + \"_k\" + str(k) + \".txt\"\n",
    "        newFileGenerator = MaxRocaGenerator(n, s ,k, path + fileName)\n",
    "        pushdown = Pushdown(path + fileName)\n",
    "        #print(n, s, k, pushdown.calculatePeriod(0),  newFileGenerator.theoryEstimate(), lowerBound(n, k))\n",
    "        if pushdown.calculatePeriod(0) != newFileGenerator.theoryEstimate():\n",
    "            print(n, s, k)\n",
    "        if lowerBound(n, k) >= newFileGenerator.theoryEstimate():\n",
    "            result = false\n",
    "            print(\"LowerBound error lowerBound = \", lowerBound(n, k), \" > real value =\", newFileGenerator.theoryEstimate())\n",
    "if result:\n",
    "    print(\"Test passed: lower bound is correct\")"
   ]
  },
  {
   "cell_type": "code",
   "execution_count": null,
   "metadata": {
    "collapsed": true
   },
   "outputs": [],
   "source": []
  }
 ],
 "metadata": {
  "kernelspec": {
   "display_name": "Python 2",
   "language": "python",
   "name": "python2"
  },
  "language_info": {
   "codemirror_mode": {
    "name": "ipython",
    "version": 2
   },
   "file_extension": ".py",
   "mimetype": "text/x-python",
   "name": "python",
   "nbconvert_exporter": "python",
   "pygments_lexer": "ipython2",
   "version": "2.7.11"
  }
 },
 "nbformat": 4,
 "nbformat_minor": 0
}
